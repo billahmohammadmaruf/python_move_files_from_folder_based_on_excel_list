{
 "cells": [
  {
   "cell_type": "code",
   "execution_count": 3,
   "id": "15c82917",
   "metadata": {},
   "outputs": [],
   "source": [
    "import os\n",
    "import glob\n",
    "import pandas as pd\n",
    "import shutil"
   ]
  },
  {
   "cell_type": "code",
   "execution_count": 5,
   "id": "81a7c0d3",
   "metadata": {
    "scrolled": true
   },
   "outputs": [
    {
     "name": "stdout",
     "output_type": "stream",
     "text": [
      "    movie_id                             name  year\n",
      "0  tt0369610                   Jurassic world  2015\n",
      "1  tt1392190               Mad max furry road  2015\n",
      "2  tt1663202                     The revenant  2015\n",
      "3  tt2322441             Fifty shades of grey  2015\n",
      "4  tt2379713                          Spectre  2015\n",
      "5  tt2381249  Mission impossible rogue nation  2015\n",
      "6  tt2395427                         Avengers  2015\n",
      "7  tt2820852                        Furious 7  2015\n"
     ]
    }
   ],
   "source": [
    "file = r'F:\\python_move_files\\movies_list.xlsx'\n",
    "data = pd.read_excel(file,sheet_name = 'Sheet1')\n",
    "print(data)\n",
    "\n",
    "colnames = ['movie_id' ,'name' ,'year']\n",
    "imaglst = data['movie_id']\n",
    "\n",
    "origin = r'F:\\python_move_files\\origin'\n",
    "destination = r'F:\\python_move_files\\destination'\n",
    "\n",
    "for i in imaglst[0:]:\n",
    "    shutil.copy(os.path.join(origin, i+ '.jpg'), destination)"
   ]
  },
  {
   "cell_type": "code",
   "execution_count": null,
   "id": "780830d0",
   "metadata": {},
   "outputs": [],
   "source": [
    "\n"
   ]
  }
 ],
 "metadata": {
  "kernelspec": {
   "display_name": "Python 3 (ipykernel)",
   "language": "python",
   "name": "python3"
  },
  "language_info": {
   "codemirror_mode": {
    "name": "ipython",
    "version": 3
   },
   "file_extension": ".py",
   "mimetype": "text/x-python",
   "name": "python",
   "nbconvert_exporter": "python",
   "pygments_lexer": "ipython3",
   "version": "3.10.4"
  }
 },
 "nbformat": 4,
 "nbformat_minor": 5
}
