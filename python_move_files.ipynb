{
 "cells": [
  {
   "cell_type": "code",
   "execution_count": 26,
   "id": "81a7c0d3",
   "metadata": {},
   "outputs": [
    {
     "name": "stdout",
     "output_type": "stream",
     "text": [
      "         Plot_ID        YIELD  GRAIN_TEST_WEIGHT    PROTEIN\n",
      "0  AuF1_EYT_1001  4380.006022         741.419118  14.313886\n",
      "1  AuF1_EYT_1003  4125.233992         745.280676  14.263953\n",
      "2  AuF1_EYT_1004  4621.929524         751.716606  14.195804\n",
      "3  AuF1_EYT_1006  4747.426330         731.121631  13.105446\n",
      "4  AuF1_EYT_1007  4868.906780         736.270375  13.553265\n"
     ]
    }
   ],
   "source": [
    "import os\n",
    "import glob\n",
    "import pandas\n",
    "import shutil\n",
    "\n",
    "file = r'C:\\Users\\DESKTOP\\OneDrive - Virginia Tech\\Desktop\\delete_prac\\train_image_with_value.xlsx'\n",
    "data = pd.read_excel(file,sheet_name = 'Sheet1')\n",
    "print(data)\n",
    "\n",
    "colnames = ['Plot_ID' ,'YIELD' ,'GRAIN_TEST_WEIGHT','PROTEIN']\n",
    "imaglst = data['Plot_ID']\n",
    "\n",
    "ori = r'C:\\Users\\DESKTOP\\OneDrive - Virginia Tech\\Desktop\\delete_prac\\ori'\n",
    "desti = r'C:\\Users\\DESKTOP\\OneDrive - Virginia Tech\\Desktop\\delete_prac\\desti'\n",
    "\n",
    "for i in imaglst[0:]:\n",
    "    shutil.copy(os.path.join(ori, i+ '.npy'), desti)"
   ]
  },
  {
   "cell_type": "code",
   "execution_count": null,
   "id": "780830d0",
   "metadata": {},
   "outputs": [],
   "source": [
    "\n"
   ]
  }
 ],
 "metadata": {
  "kernelspec": {
   "display_name": "Python 3 (ipykernel)",
   "language": "python",
   "name": "python3"
  },
  "language_info": {
   "codemirror_mode": {
    "name": "ipython",
    "version": 3
   },
   "file_extension": ".py",
   "mimetype": "text/x-python",
   "name": "python",
   "nbconvert_exporter": "python",
   "pygments_lexer": "ipython3",
   "version": "3.10.4"
  }
 },
 "nbformat": 4,
 "nbformat_minor": 5
}
